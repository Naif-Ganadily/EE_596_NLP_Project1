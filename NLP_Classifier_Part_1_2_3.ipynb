{
  "nbformat": 4,
  "nbformat_minor": 0,
  "metadata": {
    "colab": {
      "provenance": [],
      "machine_shape": "hm"
    },
    "kernelspec": {
      "name": "python3",
      "display_name": "Python 3"
    },
    "language_info": {
      "name": "python"
    },
    "accelerator": "GPU",
    "gpuClass": "standard"
  },
  "cells": [
    {
      "cell_type": "markdown",
      "source": [
        "#**EE 596: NLP Natural Language Processing**\n",
        "### Sentiment Classifier\n",
        "\n",
        "###Student: Naif Ganadily\n",
        "###Professor: Chandra Bhagavatula"
      ],
      "metadata": {
        "id": "MgoNvnKtjhK9"
      }
    },
    {
      "cell_type": "markdown",
      "source": [
        "# Part 1 Instructions\n",
        "Here, you will build a rule-based sentiment classifier.\n",
        "\n",
        "Download Data from here. The directory contains train.tsv, valid.tsv and test.tsv files denoting the train, validation and test splits of the data.\n",
        "\n",
        "Implement the following methods:\n",
        "\n",
        "1.   load_data(filename) -> tuple[list[str], list[int]] Read the provided file and return a tuple of two elements. The first element is a list of reviews and the second is the list of corresponding sentiment label.\n",
        "2.   extract_features(sentence) -> dict[str, int] Given a sentence, return a dict containing two keys and their corresponding values. num_positive_words and num_negative_words.\n",
        "3.   classify(sentence) -> int Given a sentence, use the extract_features method and based on the returned counts, assign a label to the sentence.\n",
        "4.   evaluate(predictions, labels) -> float Compute accuracy given the predicted label (obtained by calling the classify method) and the original gold label (obtained from reading the original data files).\n",
        "5.   analysis(sentences, predictions, labels) -> list[str] Use the predictions and gold labels to find reviews for which your classifier makes incorrect predictions. Can you modify extract_features to reduce the number of errors and improve accuracy?\n",
        "6.   main() -> tuple[float, list[str]] Implement the main method that takes in the train and validation splits of the data and returns the accuracy and list of reviews that have incorrect predictions.\n",
        "\n",
        "<br>\n",
        "NOTE: Do not evaluate or look at the test.tsv unless you have finalized with your classifier."
      ],
      "metadata": {
        "id": "mWFCJMb5AvYN"
      }
    },
    {
      "cell_type": "code",
      "source": [
        "from google.colab import drive\n",
        "drive.mount('/content/drive')"
      ],
      "metadata": {
        "colab": {
          "base_uri": "https://localhost:8080/"
        },
        "id": "n2bxvDj_32mj",
        "outputId": "f8e6e754-a6de-4124-ffef-a451748a4dd4"
      },
      "execution_count": 1,
      "outputs": [
        {
          "output_type": "stream",
          "name": "stdout",
          "text": [
            "Mounted at /content/drive\n"
          ]
        }
      ]
    },
    {
      "cell_type": "code",
      "source": [
        "import nltk\n",
        "nltk.download('punkt')\n",
        "from nltk.tokenize import word_tokenize"
      ],
      "metadata": {
        "colab": {
          "base_uri": "https://localhost:8080/"
        },
        "id": "lGyras6IVU0M",
        "outputId": "0cae1159-aca4-4f61-ded9-66ab42499f80"
      },
      "execution_count": 2,
      "outputs": [
        {
          "output_type": "stream",
          "name": "stderr",
          "text": [
            "[nltk_data] Downloading package punkt to /root/nltk_data...\n",
            "[nltk_data]   Unzipping tokenizers/punkt.zip.\n"
          ]
        }
      ]
    },
    {
      "cell_type": "code",
      "source": [
        "nltk.download('stopwords')\n",
        "from nltk.corpus import stopwords\n",
        "stop_words = set(stopwords.words('english'))"
      ],
      "metadata": {
        "colab": {
          "base_uri": "https://localhost:8080/"
        },
        "id": "-uh9uHTLVa4I",
        "outputId": "1ee8fe61-fa36-4446-b8b4-9fb93bbe6ab9"
      },
      "execution_count": 3,
      "outputs": [
        {
          "output_type": "stream",
          "name": "stderr",
          "text": [
            "[nltk_data] Downloading package stopwords to /root/nltk_data...\n",
            "[nltk_data]   Unzipping corpora/stopwords.zip.\n"
          ]
        }
      ]
    },
    {
      "cell_type": "code",
      "source": [
        "import re"
      ],
      "metadata": {
        "id": "HpbutHqoVfQG"
      },
      "execution_count": 4,
      "outputs": []
    },
    {
      "cell_type": "markdown",
      "source": [
        "## Load The Dataset"
      ],
      "metadata": {
        "id": "sFa_aP2_VhZN"
      }
    },
    {
      "cell_type": "code",
      "source": [
        "def load_data(filepath):\n",
        "    review_list, label_list = [], []\n",
        "    with open(filepath, \"r\") as fin:\n",
        "        for line in fin:\n",
        "            sample = line.strip().split(\"\\t\")\n",
        "            label = sample[-1]\n",
        "            input_text = \" \".join(sample[:-1])\n",
        "            review_list.append(input_text)\n",
        "            label_list.append(label)\n",
        "        return review_list, label_list"
      ],
      "metadata": {
        "id": "OURUlM8MVg05"
      },
      "execution_count": 5,
      "outputs": []
    },
    {
      "cell_type": "code",
      "source": [
        "train_data_path = \"/content/drive/MyDrive/NLP Projects/train.tsv\"\n",
        "train_text, train_label = load_data(train_data_path)\n",
        "print(train_text[:1], train_label[:1])"
      ],
      "metadata": {
        "colab": {
          "base_uri": "https://localhost:8080/"
        },
        "id": "krAFwzUeVg3m",
        "outputId": "66bcfd3e-546f-492e-a1a5-3f95fb20fb9e"
      },
      "execution_count": 8,
      "outputs": [
        {
          "output_type": "stream",
          "name": "stdout",
          "text": [
            "[\"The Rock is destined to be the 21st Century 's new `` Conan '' and that he 's going to make a splash even greater than Arnold Schwarzenegger , Jean-Claud Van Damme or Steven Segal .\"] ['positive']\n"
          ]
        }
      ]
    },
    {
      "cell_type": "markdown",
      "source": [
        "## Extract Features"
      ],
      "metadata": {
        "id": "Pc5KRTKNVwrz"
      }
    },
    {
      "cell_type": "code",
      "source": [
        "nltk.download('opinion_lexicon')\n",
        "from nltk.corpus import opinion_lexicon"
      ],
      "metadata": {
        "id": "iNmesG_aVg52",
        "colab": {
          "base_uri": "https://localhost:8080/"
        },
        "outputId": "7bbd0f44-8a39-4416-85b5-6ecece2bbebc"
      },
      "execution_count": 9,
      "outputs": [
        {
          "output_type": "stream",
          "name": "stderr",
          "text": [
            "[nltk_data] Downloading package opinion_lexicon to /root/nltk_data...\n",
            "[nltk_data]   Unzipping corpora/opinion_lexicon.zip.\n"
          ]
        }
      ]
    },
    {
      "cell_type": "code",
      "source": [
        "pos_list=set(opinion_lexicon.positive())\n",
        "neg_list=set(opinion_lexicon.negative())\n",
        "print(len(pos_list), len(neg_list))"
      ],
      "metadata": {
        "id": "QTS4rJohVg8b",
        "colab": {
          "base_uri": "https://localhost:8080/"
        },
        "outputId": "30be0a91-57d4-4e95-cab4-f83cd95ec74e"
      },
      "execution_count": 10,
      "outputs": [
        {
          "output_type": "stream",
          "name": "stdout",
          "text": [
            "2006 4783\n"
          ]
        }
      ]
    },
    {
      "cell_type": "code",
      "source": [
        "nltk.download('wordnet')\n",
        "nltk.download('omw-1.4')\n",
        "from nltk.stem import WordNetLemmatizer\n",
        "ps = WordNetLemmatizer()"
      ],
      "metadata": {
        "id": "QcZxMz5oVg-z",
        "colab": {
          "base_uri": "https://localhost:8080/"
        },
        "outputId": "6a252115-54f0-4db6-9c22-2fe4f09ce0b7"
      },
      "execution_count": 11,
      "outputs": [
        {
          "output_type": "stream",
          "name": "stderr",
          "text": [
            "[nltk_data] Downloading package wordnet to /root/nltk_data...\n",
            "[nltk_data] Downloading package omw-1.4 to /root/nltk_data...\n"
          ]
        }
      ]
    },
    {
      "cell_type": "code",
      "source": [
        "def extract_features(sentence):\n",
        "    # Text preprocessing, lowercase, removing stop words, lemmatization etc.\n",
        "    sentence = re.sub(r'\\W+', ' ', sentence)\n",
        "    sentence = sentence.lower()\n",
        "    sentence = sentence.replace(\"[^a-zA-Z]\", \" \")\n",
        "    sentence = word_tokenize(sentence)\n",
        "    text = [w for w in sentence if not w in stop_words]\n",
        "    lem = WordNetLemmatizer()\n",
        "    lem_text = [lem.lemmatize(w, pos='a') for w in text]\n",
        "    # Count positive words and negative words of a sentence.\n",
        "    count_pos_words, count_neg_words = 0, 0\n",
        "    for idx in range(len(text)):\n",
        "        if text[idx] in pos_list or lem_text[idx] in pos_list:\n",
        "            count_pos_words += 1\n",
        "        if text[idx] in neg_list or lem_text[idx] in neg_list:\n",
        "            count_neg_words += 1\n",
        "    print(text)\n",
        "    return {\"num_positive_words\": count_pos_words, \"num_negative_words\": count_neg_words}"
      ],
      "metadata": {
        "id": "aFIrq6Y_V7IA"
      },
      "execution_count": 12,
      "outputs": []
    },
    {
      "cell_type": "code",
      "source": [
        "result_dict = extract_features(train_text[1])\n",
        "print(result_dict)"
      ],
      "metadata": {
        "colab": {
          "base_uri": "https://localhost:8080/"
        },
        "id": "UonHprCHV7Kj",
        "outputId": "b10bb117-fbd9-4b34-8942-f8f0f9d0dcdb"
      },
      "execution_count": 13,
      "outputs": [
        {
          "output_type": "stream",
          "name": "stdout",
          "text": [
            "['gorgeously', 'elaborate', 'continuation', 'lord', 'rings', 'trilogy', 'huge', 'column', 'words', 'adequately', 'describe', 'co', 'writer', 'director', 'peter', 'jackson', 'expanded', 'vision', 'j', 'r', 'r', 'tolkien', 'middle', 'earth']\n",
            "{'num_positive_words': 1, 'num_negative_words': 0}\n"
          ]
        }
      ]
    },
    {
      "cell_type": "markdown",
      "source": [
        "## Rule Based Classifier"
      ],
      "metadata": {
        "id": "CgMO5aJUWBHw"
      }
    },
    {
      "cell_type": "code",
      "source": [
        "def classify(feature_dict):\n",
        "    if feature_dict[\"num_positive_words\"] > feature_dict[\"num_negative_words\"]:\n",
        "        return 1 # \"Positive\"\n",
        "    else:\n",
        "        return 0 # \"Negative\""
      ],
      "metadata": {
        "id": "zM3P2joGV7M7"
      },
      "execution_count": 14,
      "outputs": []
    },
    {
      "cell_type": "code",
      "source": [
        "classify(extract_features(train_text[0]))"
      ],
      "metadata": {
        "colab": {
          "base_uri": "https://localhost:8080/"
        },
        "id": "gQq-I0P1V7Pw",
        "outputId": "8fd792b9-6c33-43bf-c102-3c6e7b5090d0"
      },
      "execution_count": 15,
      "outputs": [
        {
          "output_type": "stream",
          "name": "stdout",
          "text": [
            "['rock', 'destined', '21st', 'century', 'new', 'conan', 'going', 'make', 'splash', 'even', 'greater', 'arnold', 'schwarzenegger', 'jean', 'claud', 'van', 'damme', 'steven', 'segal']\n"
          ]
        },
        {
          "output_type": "execute_result",
          "data": {
            "text/plain": [
              "1"
            ]
          },
          "metadata": {},
          "execution_count": 15
        }
      ]
    },
    {
      "cell_type": "markdown",
      "source": [
        "## Evaluate and Calculate the Accuracy"
      ],
      "metadata": {
        "id": "61J6p4oYWJkw"
      }
    },
    {
      "cell_type": "code",
      "source": [
        "def evaluate(predictions, labels):\n",
        "    \"\"\"\n",
        "    predictions and labels are numpy 1D array\n",
        "    \"\"\"\n",
        "    acc = np.sum(predictions == labels) / len(labels)\n",
        "    return acc"
      ],
      "metadata": {
        "id": "4PqYS9zBVhA_"
      },
      "execution_count": 16,
      "outputs": []
    },
    {
      "cell_type": "code",
      "source": [
        "import pandas as pd\n",
        "import numpy as np"
      ],
      "metadata": {
        "id": "KT7IiSXM_XqA"
      },
      "execution_count": 17,
      "outputs": []
    },
    {
      "cell_type": "code",
      "source": [
        "import csv\n",
        "import re\n",
        "\n",
        "def load_data(filename):\n",
        "    reviews = []\n",
        "    labels = []\n",
        "    label_dict = {'positive': 1, 'negative': 0}\n",
        "    with open(filename, 'r', encoding='utf-8') as f:\n",
        "        reader = csv.reader(f, delimiter='\\t')\n",
        "        for line in reader:\n",
        "            review = line[0].strip()\n",
        "            sentiment = label_dict[line[1]]\n",
        "            reviews.append(review)\n",
        "            labels.append(sentiment)\n",
        "    return reviews, labels\n",
        "\n",
        "def extract_features(sentence):\n",
        "    positive_words = ['good', 'great', 'excellent', 'fantastic', 'superb', 'nice', 'love', 'like']\n",
        "    negative_words = ['bad', 'poor', 'terrible', 'awful', 'worst', 'hate', 'dislike']\n",
        "    features = {'num_positive_words': 1, 'num_negative_words': 0}\n",
        "    words = re.findall(r'\\b\\w+\\b', sentence.lower())\n",
        "    for word in words:\n",
        "        if word in positive_words:\n",
        "            features['num_positive_words'] += 1\n",
        "        elif word in negative_words:\n",
        "            features['num_negative_words'] += 0\n",
        "    return features\n",
        "\n",
        "def classify(sentence):\n",
        "    features = extract_features(sentence)\n",
        "    if features['num_positive_words'] > features['num_negative_words']:\n",
        "        return 1\n",
        "    else:\n",
        "        return 0\n",
        "\n",
        "def evaluate(predictions, labels):\n",
        "    correct = 0\n",
        "    for pred, label in zip(predictions, labels):\n",
        "        if pred == label:\n",
        "            correct += 1\n",
        "    accuracy = correct / len(predictions)\n",
        "    return accuracy\n",
        "\n",
        "def analysis(sentences, predictions, labels):\n",
        "    errors = []\n",
        "    for sentence, pred, label in zip(sentences, predictions, labels):\n",
        "        if pred != label:\n",
        "            errors.append(sentence)\n",
        "    return errors\n",
        "\n",
        "def main():\n",
        "    train_reviews, train_labels = load_data('/content/drive/MyDrive/NLP Projects/train.tsv')\n",
        "    valid_reviews, valid_labels = load_data('/content/drive/MyDrive/NLP Projects/valid.tsv')\n",
        "    \n",
        "    # Train the model\n",
        "    predictions = []\n",
        "    for review in valid_reviews:\n",
        "        pred = classify(review)\n",
        "        predictions.append(pred)\n",
        "    accuracy = evaluate(predictions, valid_labels)\n",
        "    \n",
        "    # Find errors\n",
        "    errors = analysis(valid_reviews, predictions, valid_labels)\n",
        "    \n",
        "    return accuracy, errors\n"
      ],
      "metadata": {
        "id": "6UN6IqEk-9Cw"
      },
      "execution_count": 19,
      "outputs": []
    },
    {
      "cell_type": "code",
      "execution_count": 20,
      "metadata": {
        "colab": {
          "base_uri": "https://localhost:8080/"
        },
        "id": "pvjrIBsg-w7F",
        "outputId": "ae08b116-590d-4241-f871-658a044bfe4f"
      },
      "outputs": [
        {
          "output_type": "stream",
          "name": "stdout",
          "text": [
            "Accuracy: 0.5091743119266054\n",
            "Errors: [\"Here 's yet another studio horror franchise mucking up its storyline with glitches casual fans could correct in their sleep .\", \"You wo n't like Roger , but you will quickly recognize him .\", 'Ultimately feels empty and unsatisfying , like swallowing a Communion wafer without the wine .', 'Suffers from the lack of a compelling or comprehensible narrative .', \"If director Michael Dowse only superficially understands his characters , he does n't hold them in contempt .\", 'This Nickleby thing might have more homosexual undertones than an Eddie Murphy film .', 'This riveting World War II moral suspense story deals with the shadow side of American culture : racial prejudice in its ugly and diverse forms .', \"In all , this is a watchable movie that 's not quite the memorable experience it might have been .\", \"It 's a bit disappointing that it only manages to be decent instead of dead brilliant .\", 'A subject like this should inspire reaction in its audience ; The Pianist does not .', 'An absurdist comedy about alienation , separation and loss .', 'Unflinchingly bleak and desperate', \"Moretti 's compelling anatomy of grief and the difficult process of adapting to loss .\", \"But it 's too long and too convoluted and it ends in a muddle .\", \"It 's like watching a nightmare made flesh .\", 'If the first Men in Black was money , the second is small change .', \"Passable entertainment , but it 's the kind of motion picture that wo n't make much of a splash when it 's released , and will not be remembered long afterwards .\", 'Pumpkin takes an admirable look at the hypocrisy of political correctness , but it does so with such an uneven tone that you never know when humor ends and tragedy begins .', 'Every dance becomes about seduction , where backstabbing and betrayals are celebrated , and sex is currency .', \"It 's somewhat clumsy and too lethargically paced -- but its story about a mysterious creature with psychic abilities offers a solid build-up , a terrific climax , and some nice chills along the way .\", 'This film seems thirsty for reflection , itself taking on adolescent qualities .', 'Nothing is sacred in this gut-buster .', 'Part low rent Godfather .', 'Without non-stop techno or the existential overtones of a Kieslowski morality tale , Maelström is just another Winter Sleepers .', \"Nicks , seemingly uncertain what 's going to make people laugh , runs the gamut from stale parody to raunchy sex gags to formula romantic comedy .\", \"If there 's one thing this world needs less of , it 's movies about college that are written and directed by people who could n't pass an entrance exam .\", \"The script kicks in , and Mr. Hartley 's distended pace and foot-dragging rhythms follow .\", '-LRB- E -RRB- ventually , every idea in this film is flushed down the latrine of heroism .', 'I am sorry that I was unable to get the full brunt of the comedy .', 'No telegraphing is too obvious or simplistic for this movie .', 'Looks and feels like a project better suited for the small screen .', 'In its best moments , resembles a bad high school production of Grease , without benefit of song .', 'Indifferently implausible popcorn programmer of a movie .', \"It 's inoffensive , cheerful , built to inspire the young people , set to an unending soundtrack of beach party pop numbers and aside from its remarkable camerawork and awesome scenery , it 's about as exciting as a sunburn .\", 'His comedy premises are often hackneyed or just plain crude , calculated to provoke shocked laughter , without following up on a deeper level .', \"At times , the suspense is palpable , but by the end there 's a sense that the crux of the mystery hinges on a technicality that strains credulity and leaves the viewer haunted by the waste of potential .\", 'They should have called it Gutterball .', \"It 's too self-important and plodding to be funny , and too clipped and abbreviated to be an epic .\", \"The best that can be said about the work here of Scottish director Ritchie ... is that he obviously does n't have his heart in it .\", 'Less dizzying than just dizzy , the jaunt is practically over before it begins .', 'Taylor appears to have blown his entire budget on soundtrack rights and had nothing left over for jokes .', \"It all drags on so interminably it 's like watching a miserable relationship unfold in real time .\", \"Villeneuve spends too much time wallowing in Bibi 's generic angst -LRB- there are a lot of shots of her gazing out windows -RRB- .\", \"-LRB- T -RRB- here 's only so much anyone can do with a florid , overplotted , Anne Rice rock 'n' roll vampire novel before the built-in silliness of the whole affair defeats them .\", \"It 's another video movie photographed like a film , with the bad lighting that 's often written off as indie film naturalism .\", 'I got a headache watching this meaningless downer .', 'Too much of the humor falls flat .', 'Detox is ultimately a pointless endeavor .', 'The piquant story needs more dramatic meat on its bones .', \"Very special effects , brilliantly bold colors and heightened reality ca n't hide the giant Achilles ' heel in `` Stuart Little 2 `` : There 's just no story , folks .\", 'No way I can believe this load of junk .', \"It 's dumb , but more importantly , it 's just not scary .\", 'There is no pleasure in watching a child suffer .', 'Just embarrassment and a vague sense of shame .', \"The movie 's accumulated force still feels like an ugly knot tightening in your stomach .\", 'Even with a green Mohawk and a sheet of fire-red flame tattoos covering his shoulder , however , Kilmer seems to be posing , rather than acting .', 'And that leaves a hole in the center of The Salton Sea .', 'When the film ended , I felt tired and drained and wanted to lie on my own deathbed for a while .', \"The film 's hackneyed message is not helped by the thin characterizations , nonexistent plot and pretentious visual style .\", 'The Iditarod lasts for days - this just felt like it did .', 'It feels like an after-school special gussied up with some fancy special effects , and watching its rote plot points connect is about as exciting as gazing at an egg timer for 93 minutes .', 'This movie is maddening .', 'Should have been someone else -', 'The film is based on truth and yet there is something about it that feels incomplete , as if the real story starts just around the corner .', 'Why make a documentary about these marginal historical figures ?', \"The lower your expectations , the more you 'll enjoy it .\", 'Rarely has leukemia looked so shimmering and benign .', '... is an arthritic attempt at directing by Callie Khouri .', 'I had to look away - this was god awful .', \"Velocity represents everything wrong with '' independent film '' as a commodified , sold-out concept on the American filmmaking scene .\", 'Just one bad idea after another .', \"Because of an unnecessary and clumsy last scene , ` Swimfan ' left me with a very bad feeling .\", \"Though Moonlight Mile is replete with acclaimed actors and actresses and tackles a subject that 's potentially moving , the movie is too predictable and too self-conscious to reach a level of high drama .\", 'Corpus Collosum -- while undeniably interesting -- wore out its welcome well before the end credits rolled about 45 minutes in .', \"The last 20 minutes are somewhat redeeming , but most of the movie is the same teenage American road-trip drek we 've seen before - only this time you have to read the fart jokes\", \"It 's hard to like a film about a guy who is utterly unlikeable , and Shiner , starring Michael Caine as an aging British boxing promoter desperate for a taste of fame and fortune , is certainly that .\", \"A by-the-numbers effort that wo n't do much to enhance the franchise .\", 'Involves two mysteries -- one it gives away and the other featuring such badly drawn characters that its outcome hardly matters .', 'Overall the film feels like a low-budget TV pilot that could not find a buyer to play it on the tube .', \"It 's of the quality of a lesser Harrison Ford movie - Six Days , Seven Nights , maybe , or that dreadful Sabrina remake .\", 'It appears that something has been lost in the translation to the screen .', 'Despite all evidence to the contrary , this clunker has somehow managed to pose as an actual feature movie , the kind that charges full admission and gets hyped on TV and purports to amuse small children and ostensible adults .', 'An unclassifiably awful study in self - and audience-abuse .', 'This movie is something of an impostor itself , stretching and padding its material in a blur of dead ends and distracting camera work .', 'This one is definitely one to skip , even for horror movie fanatics .', 'Excessive , profane , packed with cartoonish violence and comic-strip characters .', 'Once the 50 year old Benigni appears as the title character , we find ourselves longing for the block of wood to come back .', \"If the movie succeeds in instilling a wary sense of ` there but for the grace of God , ' it is far too self-conscious to draw you deeply into its world .\", 'There are simply too many ideas floating around -- part farce , part Sliding Doors , part pop video -- and yet failing to exploit them .', 'It takes a strange kind of laziness to waste the talents of Robert Forster , Anne Meara , Eugene Levy , and Reginald VelJohnson all in the same movie .', 'Expect the same-old , lame-old slasher nonsense , just with different scenery .', \"The Cold Turkey would 've been a far better title .\", 'The reality of the new live-action Pinocchio he directed , cowrote and starred in borders on the grotesque .', \"Zaidan 's script has barely enough plot to string the stunts together and not quite enough characterization to keep the faces straight .\", \"Try as I may , I ca n't think of a single good reason to see this movie , even though everyone in my group extemporaneously shouted , ` Thank you ! '\", 'when Leguizamo finally plugged an irritating character late in the movie .', 'It treats women like idiots .', 'A valueless kiddie paean to pro basketball underwritten by the NBA .', \"Impostor has a handful of thrilling moments and a couple of good performances , but the movie does n't quite fly .\", 'For starters , the story is just too slim .', 'The experience of going to a film festival is a rewarding one ; the experiencing of sampling one through this movie is not .', 'It has its moments of swaggering camaraderie , but more often just feels generic , derivative and done to death .', 'Almost gags on its own gore .', 'How do you spell cliché ?', \"The moviegoing equivalent of going to a dinner party and being forced to watch the host and hostess 's home video of their baby 's birth .\", 'While -LRB- Hill -RRB- has learned new tricks , the tricks alone are not enough to salvage this lifeless boxing film .', 'Too much of it feels unfocused and underdeveloped .', 'Big Fat Waste of Time .', \"The Movie is what happens when you blow up small potatoes to 10 times their natural size , and it ai n't pretty .\", 'Sometimes seems less like storytelling than something the otherwise compelling director needed to get off his chest .', \"This is not the undisputed worst boxing movie ever , but it 's certainly not a champion - the big loser is the audience .\", \"You really have to wonder how on earth anyone , anywhere could have thought they 'd make audiences guffaw with a script as utterly diabolical as this .\", 'In the end , we are left with something like two ships passing in the night rather than any insights into gay love , Chinese society or the price one pays for being dishonest .', 'Chokes on its own depiction of upper-crust decorum .', 'Well-nigh unendurable ... though the picture strains to become cinematic poetry , it remains depressingly prosaic and dull .', 'I thought my own watch had stopped keeping time as I slogged my way through Clockstoppers .', \"Unfortunately , it 's not silly fun unless you enjoy really bad movies .\", \"The longer the movie goes , the worse it gets , but it 's actually pretty good in the first few minutes .\", \"While it 's genuinely cool to hear characters talk about early rap records -LRB- Sugar Hill Gang , etc. -RRB- , the constant referencing of hip-hop arcana can alienate even the savviest audiences .\", 'Not only unfunny , but downright repellent .', \"Care deftly captures the wonder and menace of growing up , but he never really embraces the joy of Fuhrman 's destructive escapism or the grace-in-rebellion found by his characters .\", 'Forced , familiar and thoroughly condescending .', 'Does little more than play an innocuous game of fill-in - the-blanks with a tragic past .', 'K-19 exploits our substantial collective fear of nuclear holocaust to generate cheap Hollywood tension .', \"Whaley 's determination to immerse you in sheer , unrelenting wretchedness is exhausting .\", 'Uncommonly stylish but equally silly ... the picture fails to generate much suspense , nor does it ask searching enough questions to justify its pretensions .', 'The entire movie is about a boring , sad man being boring and sad .', \"The plot convolutions ultimately add up to nothing more than jerking the audience 's chain .\", 'Confirms the nagging suspicion that Ethan Hawke would be even worse behind the camera than he is in front of it .', 'Made with no discernible craft and monstrously sanctimonious in dealing with childhood loss .', 'Holden Caulfield did it better .', 'A synthesis of cliches and absurdities that seems positively decadent in its cinematic flash and emptiness .', 'Oh come on .', \"Like you could n't smell this turkey rotting from miles away .\", 'Not exactly the Bees Knees', \"It does nothing new with the old story , except to show fisticuffs in this sort of stop-go slow motion that makes the gang rumbles look like they 're being streamed over a 28K modem .\", \"The film contains no good jokes , no good scenes , barely a moment when Carvey 's Saturday Night Live-honed mimicry rises above the level of embarrassment .\", 'Chabrol has taken promising material for a black comedy and turned it instead into a somber chamber drama .', \"It 's as if you 're watching a movie that was made in 1978 but not released then because it was so weak , and it has been unearthed and released now , when it has become even weaker .\", 'In execution , this clever idea is far less funny than the original , Killers From Space .', 'One of the more irritating cartoons you will see this , or any , year .', \"A broad , melodramatic estrogen opera that 's pretty toxic in its own right .\", 'Too slow , too long and too little happens .', \"The film 's few ideas are stretched to the point of evaporation ; the whole central section is one big chase that seems to have no goal and no urgency .\", \"It 's just filler .\", 'Sacrifices the value of its wealth of archival foot-age with its less-than-objective stance .', \"Utterly lacking in charm , wit and invention , Roberto Benigni 's Pinocchio is an astonishingly bad film .\", 'A hamfisted romantic comedy that makes our girl the hapless facilitator of an extended cheap shot across the Mason-Dixon line .', 'Scores no points for originality , wit , or intelligence .', \"It 's a cookie-cutter movie , a cut-and-paste job .\", \"Even on those rare occasions when the narrator stops yammering , Miller 's hand often feels unsure .\", 'Pumpkin means to be an outrageous dark satire on fraternity life , but its ambitions far exceed the abilities of writer Adam Larson Broder and his co-director , Tony R. Abrams , in their feature debut .', 'At its worst , it implodes in a series of very bad special effects .', \"From the opening scenes , it 's clear that All About the Benjamins is a totally formulaic movie .\", \"It takes a certain kind of horror movie to qualify as ` worse than expected , ' but Ghost Ship somehow manages to do exactly that .\", 'A TV style murder mystery with a few big screen moments -LRB- including one that seems to be made for a different film altogether -RRB- .', 'By getting myself wrapped up in the visuals and eccentricities of many of the characters , I found myself confused when it came time to get to the heart of the movie .', \"Too often , the viewer is n't reacting to humor so much as they are wincing back in repugnance .\", 'Manages to show life in all of its banality when the intention is quite the opposite .', 'Do not see this film .', 'Delivers the same old same old , tarted up with Latin flava and turned out by Hollywood playas .', 'If you believe any of this , I can make you a real deal on leftover Enron stock that will double in value a week from Friday .', \"To call The Other Side of Heaven `` appalling '' would be to underestimate just how dangerous entertainments like it can be .\", \"In exactly 89 minutes , most of which passed as slowly as if I 'd been sitting naked on an igloo , Formula 51 sank from quirky to jerky to utter turkey .\", \"I 'd have to say the star and director are the big problems here .\", \"It 's like every bad idea that 's ever gone into an after-school special compiled in one place , minus those daytime programs ' slickness and sophistication -LRB- and who knew they even had any ? -RRB- .\", 'While the Resident Evil games may have set new standards for thrills , suspense , and gore for video games , the movie really only succeeds in the third of these .', 'For close to two hours the audience is forced to endure three terminally depressed , mostly inarticulate , hyper dysfunctional families for the price of one .', \"What the director ca n't do is make either of Val Kilmer 's two personas interesting or worth caring about .\", 'In an effort , I suspect , not to offend by appearing either too serious or too lighthearted , it offends by just being wishy-washy .', \"It 's difficult to imagine the process that produced such a script , but here 's guessing that spray cheese and underarm noises played a crucial role .\", '... nothing scary here except for some awful acting and lame special effects .', \"It 's not that Kung Pow is n't funny some of the time -- it just is n't any funnier than bad martial arts movies are all by themselves , without all Oedekerk 's impish augmentation .\", 'A very long movie , dull in stretches , with entirely too much focus on meal preparation and igloo construction .', 'Not an objectionable or dull film ; it merely lacks everything except good intentions .', 'A science-fiction pastiche so lacking in originality that if you stripped away its inspirations there would be precious little left .', \"Once -LRB- Kim -RRB- begins to overplay the shock tactics and bait-and-tackle metaphors , you may decide it 's too high a price to pay for a shimmering picture postcard .\", \"The words , ` Frankly , my dear , I do n't give a damn , ' have never been more appropriate .\", \"All the amped-up Tony Hawk-style stunts and thrashing rap-metal ca n't disguise the fact that , really , we 've been here , done that .\", \"A sequel that 's much too big for its britches .\", 'So unremittingly awful that labeling it a dog probably constitutes cruelty to canines .', 'What was once original has been co-opted so frequently that it now seems pedestrian .', \"For all the writhing and wailing , tears , rage and opium overdoses , there 's no sense of actual passion being washed away in love 's dissolution .\", 'A coarse and stupid gross-out .', 'a nightmare date with a half-formed wit done a great disservice by a lack of critical distance and a sad trust in liberal arts college bumper sticker platitudes .', \"Does n't offer much besides glib soullessness , raunchy language and a series of brutal set pieces ... that raise the bar on stylized screen violence .\", \"It 's one pussy-ass world when even killer-thrillers revolve around group therapy sessions .\", \"But the power of these -LRB- subjects -RRB- is obscured by the majority of the film that shows a stationary camera on a subject that could be mistaken for giving a public oration , rather than contributing to a film 's narrative .\", 'Rarely has so much money delivered so little entertainment .', 'Tries to add some spice to its quirky sentiments but the taste is all too familiar .', \"Paid In Full is so stale , in fact , that its most vibrant scene is one that uses clips from Brian De Palma 's Scarface .\", \"That 's a cheat .\", 'This re-do is so dumb and so exploitative in its violence that , ironically , it becomes everything that the rather clumsy original was railing against .', 'A string of rehashed sight gags based in insipid vulgarity .', \"The movie is Dawn of the Dead crossed with John Carpenter 's Ghosts of Mars , with zombies not as ghoulish as the first and trains not as big as the second .\", 'Basically a static series of semi-improvised -LRB- and semi-coherent -RRB- raps between the stars .', 'Too restrained to be a freak show , too mercenary and obvious to be cerebral , too dull and pretentious to be engaging ... The Isle defies an easy categorization .', \"`` The Time Machine '' is a movie that has no interest in itself .\", \"It does n't believe in itself , it has no sense of humor ... it 's just plain bored .\", '... a hollow joke told by a cinematic gymnast having too much fun embellishing the misanthropic tale to actually engage it .', \"The script is n't very good ; not even someone as gifted as Hoffman -LRB- the actor -RRB- can make it work .\", 'It has all the excitement of eating oatmeal .', \"I 'll bet the video game is a lot more fun than the film .\", 'Wince-inducing dialogue , thrift-shop costumes , prosthetic makeup by Silly Putty and Kmart blue-light-special effects all conspire to test Trekkie loyalty .', \"I do n't mind having my heartstrings pulled , but do n't treat me like a fool .\", 'Its well of thorn and vinegar -LRB- and simple humanity -RRB- has long been plundered by similar works featuring the insight and punch this picture so conspicuously lacks .', 'For all its impressive craftsmanship , and despite an overbearing series of third-act crescendos , Lily Chou-Chou never really builds up a head of emotional steam .', \"Do n't be fooled by the impressive cast list - Eye See You is pure junk .\", 'Not since Freddy Got Fingered has a major release been so painful to sit through .', 'Plays like a volatile and overlong W magazine fashion spread .', 'A better title , for all concerned , might be Swept Under the Rug .', 'This movie seems to have been written using Mad-libs .', \"Vera 's technical prowess ends up selling his film short ; he smoothes over hard truths even as he uncovers them .\", '-LRB- A -RRB- shapeless blob of desperate entertainment .', 'Feels too formulaic and too familiar to produce the transgressive thrills of early underground work .', 'Given how heavy-handed and portent-heavy it is , this could be the worst thing Soderbergh has ever done .', 'a by-the-numbers patient\\\\/doctor pic that covers all the usual ground', 'A dumb movie with dumb characters doing dumb things and you have to be really dumb not to see where this is going .', 'Stealing Harvard aspires to comedic grand larceny but stands convicted of nothing more than petty theft of your time .', \"With the exception of some fleetingly amusing improvisations by Cedric the Entertainer as Perry 's boss , there is n't a redeeming moment here .\", \"It 's a grab bag of genres that do n't add up to a whole lot of sense .\", 'Movie fans , get ready to take off ... the other direction .', \"-LRB- director -RRB- O'Fallon manages to put some lovely pictures up on the big screen , but his skill at telling a story -- he also contributed to the screenplay -- falls short .\", \"All that 's missing is the spontaneity , originality and delight .\", 'No one but a convict guilty of some truly heinous crime should have to sit through The Master of Disguise .', \"Even the finest chef ca n't make a hotdog into anything more than a hotdog , and Robert De Niro ca n't make this movie anything more than a trashy cop buddy comedy .\", \"There 's too much falseness to the second half , and what began as an intriguing look at youth fizzles into a dull , ridiculous attempt at heart-tugging .\", 'Despite the evocative aesthetics evincing the hollow state of modern love life , the film never percolates beyond a monotonous whine .', \"It 's slow -- very , very slow .\", \"It 's not the ultimate Depression-era gangster movie .\", \"That 's pure PR hype .\", 'Characters still need to function according to some set of believable and comprehensible impulses , no matter how many drugs they do or how much artistic license Avary employs .', 'Comes ... uncomfortably close to coasting in the treads of The Bicycle Thief .', 'Visually rather stunning , but ultimately a handsome-looking bore , the true creativity would have been to hide Treasure Planet entirely and completely reimagine it .', \"Stealing Harvard is evidence that the Farrelly Bros. -- Peter and Bobby -- and their brand of screen comedy are wheezing to an end , along with Green 's half-hearted movie career .\", \"There seems to be no clear path as to where the story 's going , or how long it 's going to take to get there .\", \"I do n't think I laughed out loud once .\", \"And when you 're talking about a slapstick comedy , that 's a pretty big problem .\", \"It 's so mediocre , despite the dynamic duo on the marquee , that we just ca n't get no satisfaction .\", \"Slapstick buffoonery can tickle many a preschooler 's fancy , but when it costs a family of four about $ 40 to see a film in theaters , why spend money on a dog like this when you can rent a pedigree instead ?\", '... turns so unforgivably trite in its last 10 minutes that anyone without a fortified sweet tooth will likely go into sugar shock .', 'The notion that bombing buildings is the funniest thing in the world goes entirely unexamined in this startlingly unfunny comedy .', 'My reaction in a word : disappointment .', 'His last movie was poetically romantic and full of indelible images , but his latest has nothing going for it .', 'Sustains its dreamlike glide through a succession of cheesy coincidences and voluptuous cheap effects , not the least of which is Rebecca Romijn-Stamos .', 'Feels haphazard , as if the writers mistakenly thought they could achieve an air of frantic spontaneity by simply tossing in lots of characters doing silly stuff and stirring the pot .', 'For each chuckle there are at least 10 complete misses , many coming from the amazingly lifelike Tara Reid , whose acting skills are comparable to a cardboard cutout .', \"I 've always dreamed of attending Cannes , but after seeing this film , it 's not that big a deal .\", 'It can not be enjoyed , even on the level that one enjoys a bad slasher flick , primarily because it is dull .', 'Yes , dull .', \"Director Uwe Boll and the actors provide scant reason to care in this crude '70s throwback .\", \"-LRB- W -RRB- hile long on amiable monkeys and worthy environmentalism , Jane Goodall 's Wild Chimpanzees is short on the thrills the oversize medium demands .\", 'Outer-space buffs might love this film , but others will find its pleasures intermittent .', 'This piece of Channel 5 grade trash is , quite frankly , an insult to the intelligence of the true genre enthusiast .', 'An occasionally funny , but overall limp , fish-out-of-water story .', 'A bloated gasbag thesis grotesquely impressed by its own gargantuan aura of self-importance ...', \"As A Rumor of Angels reveals itself to be a sudsy tub of supernatural hokum , not even Ms. Redgrave 's noblest efforts can redeem it from hopeless sentimentality .\", 'The humor is forced and heavy-handed , and occasionally simply unpleasant .', 'As the latest bid in the TV-to-movie franchise game , I Spy makes its big-screen entry with little of the nervy originality of its groundbreaking small-screen progenitor .', \"This is n't even Madonna 's Swept Away .\", 'The director knows how to apply textural gloss , but his portrait of sex-as-war is strictly sitcom .', '... the film suffers from a lack of humor -LRB- something needed to balance out the violence -RRB- ...', 'Burns never really harnesses to full effect the energetic cast .', 'An overemphatic , would-be wacky , ultimately tedious sex farce .', 'Has all the depth of a wading pool .', 'This is the sort of burly action flick where one coincidence pummels another , narrative necessity is a drunken roundhouse , and whatever passes for logic is a factor of the last plot device left standing .', \"The so-inept - it 's - surreal dubbing -LRB- featuring the voices of Glenn Close , Regis Philbin and Breckin Meyer -RRB- brings back memories of cheesy old Godzilla flicks .\", '... the movie is just a plain old monster .', 'One long string of cliches .', 'Fancy a real downer ?', \"Professionally speaking , it 's tempting to jump ship in January to avoid ridiculous schlock like this shoddy suspense thriller .\", \"Nelson 's brutally unsentimental approach ... sucks the humanity from the film , leaving behind an horrific but weirdly unemotional spectacle .\", 'At once half-baked and overheated .', \"It 's too bad that the helping hand he uses to stir his ingredients is also a heavy one .\", \"Of course , by more objective measurements it 's still quite bad .\", 'Sam Mendes has become valedictorian at the School for Soft Landings and Easy Ways Out .', 'Its story may be a thousand years old , but why did it have to seem like it took another thousand to tell it to us ?', 'The problem with this film is that it lacks focus .', \"I sympathize with the plight of these families , but the movie does n't do a very good job conveying the issue at hand .\", 'Dull , lifeless , and amateurishly assembled .', \"It 's a bad thing when a movie has about as much substance as its end credits blooper reel .\", 'With its dogged Hollywood naturalism and the inexorable passage of its characters toward sainthood , Windtalkers is nothing but a sticky-sweet soap .', 'No aspirations to social import inform the movie version .', 'This is a shameless sham , calculated to cash in on the popularity of its stars .', \"It 's clear the filmmakers were n't sure where they wanted their story to go , and even more clear that they lack the skills to get us to this undetermined destination .\", 'As vulgar as it is banal .', \"You wonder why Enough was n't just a music video rather than a full-length movie .\", \"The film 's tone and pacing are off almost from the get-go .\", \"The talented and clever Robert Rodriguez perhaps put a little too much heart into his first film and did n't reserve enough for his second .\", 'More whiny downer than corruscating commentary .', \"Suffocated by its fussy script and uptight characters , this musty adaptation is all the more annoying since it 's been packaged and sold back to us by Hollywood .\", 'Coughs and sputters on its own postmodern conceit .', 'A wildly inconsistent emotional experience .', \"Sit through this one , and you wo n't need a magic watch to stop time ; your DVD player will do it for you .\", 'A sometimes tedious film .', 'Teen movies have really hit the skids .', 'There are plot holes big enough for Shamu the killer whale to swim through .', '... plays like somebody spliced random moments of a Chris Rock routine into what is otherwise a cliche-riddled but self-serious spy thriller .', 'What is 100 % missing here is a script of even the most elemental literacy , an inkling of genuine wit , and anything resembling acting .', 'just not campy enough', 'The movie , directed by Mick Jackson , leaves no cliche unturned , from the predictable plot to the characters straight out of central casting .', \"It 's everything you do n't go to the movies for .\", \"Like watching a dress rehearsal the week before the show goes up : everything 's in place but something 's just a little off-kilter .\", \"The affectionate loopiness that once seemed congenital to Demme 's perspective has a tough time emerging from between the badly dated cutesy-pie mystery scenario and the newfangled Hollywood post-production effects .\", \"For all its technical virtuosity , the film is so mired in juvenile and near-xenophobic pedagogy that it 's enough to make one pine for the day when Godard can no longer handle the rigors of filmmaking .\", 'American Chai encourages rueful laughter at stereotypes only an Indian-American would recognize .', 'And the lesson , in the end , is nothing new .', 'It made me want to wrench my eyes out of my head and toss them at the screen .', \"Due to some script weaknesses and the casting of the director 's brother , the film trails off into inconsequentiality .\", '... plot holes so large and obvious a marching band might as well be stomping through them in clown clothes , playing a college football fight song on untuned instruments .', 'So devoid of any kind of intelligible story that it makes films like XXX and Collateral Damage seem like thoughtful treatises', \"Combining quick-cut editing and a blaring heavy metal much of the time , Beck seems to be under the illusion that he 's shooting the latest System of a Down video .\", 'Dragonfly has no atmosphere , no tension -- nothing but Costner , flailing away .', \"It 's a buggy drag .\", 'Works hard to establish rounded characters , but then has nothing fresh or particularly interesting to say about them .', 'The action switches between past and present , but the material link is too tenuous to anchor the emotional connections that purport to span a 125-year divide .', \"Nonsensical , dull `` cyber-horror '' flick is a grim , hollow exercise in flat scares and bad acting .\", 'Instead of hiding Pinocchio from critics , Miramax should have hidden it from everyone .', 'Manages to be both repulsively sadistic and mundane .', \"A great ensemble cast ca n't lift this heartfelt enterprise out of the familiar .\", 'There ought to be a directing license , so that Ed Burns can have his revoked .', '... a boring parade of talking heads and technical gibberish that will do little to advance the Linux cause .', 'Green might want to hang onto that ski mask , as robbery may be the only way to pay for his next project .', \"I can take infantile humor ... but this is the sort of infantile that makes you wonder about changing the director and writer 's diapers .\", \"There is n't nearly enough fun here , despite the presence of some appealing ingredients .\", 'The tale of Tok -LRB- Andy Lau -RRB- , a sleek sociopath on the trail of O -LRB- Takashi Sorimachi -RRB- , the most legendary of Asian hitmen , is too scattershot to take hold .', 'Directed in a paint-by-numbers manner .', \"A lackluster , unessential sequel to the classic Disney adaptation of J.M. Barrie 's Peter Pan .\", \"Samira Makhmalbaf 's new film Blackboards is much like the ethos of a stream of consciousness , although , it 's unfortunate for the viewer that the thoughts and reflections coming through are torpid and banal\", \"Late Marriage 's stiffness is unlikely to demonstrate the emotional clout to sweep U.S. viewers off their feet .\", 'This time Mr. Burns is trying something in the Martin Scorsese street-realist mode , but his self-regarding sentimentality trips him up again .', \"It 's hampered by a Lifetime-channel kind of plot and a lead actress who is out of her depth .\", 'There is very little dread or apprehension , and though I like the creepy ideas , they are not executed with anything more than perfunctory skill .', \"If you 've ever entertained the notion of doing what the title of this film implies , what Sex With Strangers actually shows may put you off the idea forever .\", 'In the end , the movie collapses on its shaky foundation despite the best efforts of director Joe Carnahan .', 'Adults will wish the movie were less simplistic , obvious , clumsily plotted and shallowly characterized .', 'But what are adults doing in the theater at all ?', 'Sticky sweet sentimentality , clumsy plotting and a rosily myopic view of life in the WWII-era Mississippi Delta undermine this adaptation .', \"It 's another stale , kill-by-numbers flick , complete with blade-thin characters and terrible , pun-laden dialogue .\", 'Every time you look , Sweet Home Alabama is taking another bummer of a wrong turn .', 'Partway through watching this saccharine , Easter-egg-colored concoction , you realize that it is made up of three episodes of a rejected TV show .', \"The overall effect is less like a children 's movie than a recruitment film for future Hollywood sellouts .\", 'Portentous and pretentious , The Weight of Water is appropriately titled , given the heavy-handedness of it drama .', 'Jason X is positively anti-Darwinian : nine sequels and 400 years later , the teens are none the wiser and Jason still kills on auto-pilot .', \"To say this was done better in Wilder 's Some Like It Hot is like saying the sun rises in the east .\", \"At the very least , if you do n't know anything about Derrida when you walk into the theater , you wo n't know much more when you leave .\", \"As ` chick flicks ' go , this one is pretty miserable , resorting to string-pulling rather than legitimate character development and intelligent plotting .\", 'The only excitement comes when the credits finally roll and you get to leave the theater .', \"There 's no emotional pulse to Solaris .\", \"It ca n't decide if it wants to be a mystery\\\\/thriller , a romance or a comedy .\", 'The character of ZigZag is not sufficiently developed to support a film constructed around him .', 'One of those pictures whose promising , if rather precious , premise is undercut by amateurish execution .', \"Serving Sara does n't serve up a whole lot of laughs .\", 'The most hopelessly monotonous film of the year , noteworthy only for the gimmick of being filmed as a single unbroken 87-minute take .', 'With virtually no interesting elements for an audience to focus on , Chelsea Walls is a triple-espresso endurance challenge .', 'Deadeningly dull , mired in convoluted melodrama , nonsensical jargon and stiff-upper-lip laboriousness .', 'A misogynistic piece of filth that attempts to pass itself off as hip , young adult entertainment .', 'The film makes a fatal mistake : It asks us to care about a young man whose only apparent virtue is that he is not quite as unpleasant as some of the people in his life .', 'Another in-your-face wallow in the lower depths made by people who have never sung those blues .', 'Shaky close-ups of turkey-on-rolls , stubbly chins , liver spots , red noses and the filmmakers new bobbed do draw easy chuckles but lead nowhere .', 'Complete lack of originality , cleverness or even visible effort', 'Though Perry and Hurley make inspiring efforts to breathe life into the disjointed , haphazard script by Jay Scherick and David Ronn , neither the actors nor director Reginald Hudlin can make it more than fitfully entertaining .', 'It takes talent to make a lifeless movie about the most heinous man who ever lived .', 'On the whole , the movie lacks wit , feeling and believability to compensate for its incessant coarseness and banality .', \"The story and the friendship proceeds in such a way that you 're watching a soap opera rather than a chronicle of the ups and downs that accompany lifelong friendships .\", 'Offers very little genuine romance and even fewer laughs ... a sad sitcom of a movie , largely devoid of charm .', 'Makes for a pretty unpleasant viewing experience .', 'The movie fails to live up to the sum of its parts .', \"Although Huppert 's intensity and focus has a raw exhilaration about it , The Piano Teacher is anything but fun .\", \"It showcases Carvey 's talent for voices , but not nearly enough and not without taxing every drop of one 's patience to get to the good stuff .\", 'Bad .', 'Very bad .', 'Stultifyingly , dumbfoundingly , mind-numbingly bad .', 'May reawaken discussion of the Kennedy assassination but this fictional film looks made for cable rather than for the big screen .', \"If looking for a thrilling sci-fi cinematic ride , do n't settle for this Imposter .\", 'Not really bad so much as distasteful : We need kidnapping suspense dramas right now like we need doomsday thrillers .', 'The result is a gaudy bag of stale candy , something from a Halloween that died .', \"Davis ... is so enamored of her own creation that she ca n't see how insufferable the character is .\", 'The Man From Elysian Fields is a cold , bliss-less work that groans along thinking itself some important comment on how life throws us some beguiling curves .', \"Determined to be fun , and bouncy , with energetic musicals , the humor did n't quite engage this adult .\", 'But this films lacks the passion required to sell the material .', \"There 's not enough here to justify the almost two hours .\", \"The X potion gives the quickly named Blossom , Bubbles and Buttercup supernatural powers that include extraordinary strength and laser-beam eyes , which unfortunately do n't enable them to discern flimsy screenplays .\", 'Perceptive in its vision of nascent industrialized world politics as a new art form , but far too clunky , didactic and saddled with scenes that seem simply an ill fit for this movie .', 'Verbinski implements every hack-artist trick to give us the ooky-spookies .', 'An unwise amalgam of Broadcast News and Vibes .', \"Hit and miss as far as the comedy goes and a big ole ' miss in the way of story .\", 'Trite , banal , cliched , mostly inoffensive .', 'Mattei is tiresomely grave and long-winded , as if circularity itself indicated profundity .', \"It 's not original , and , robbed of the element of surprise , it does n't have any huge laughs in its story of irresponsible cops who love to play pranks .\", 'It offers little beyond the momentary joys of pretty and weightless intellectual entertainment .', \"A sequence of ridiculous shoot - 'em - up scenes .\", 'Nothing in Waking Up in Reno ever inspired me to think of its inhabitants as anything more than markers in a screenplay .', \"I 'm just too bored to care .\", 'Irwin is a man with enough charisma and audacity to carry a dozen films , but this particular result is ultimately held back from being something greater .', 'Attempts by this ensemble film to impart a message are so heavy-handed that they instead pummel the audience .', 'It all feels like a Monty Python sketch gone horribly wrong .', 'Nervous breakdowns are not entertaining .', \"Scorsese does n't give us a character worth giving a damn about .\", 'Like being trapped at a perpetual frat party ... How can something so gross be so boring ?', 'This is so bad .', \"Prurient playthings aside , there 's little to love about this English trifle .\", 'This is a train wreck of an action film -- a stupefying attempt by the filmmakers to force-feed James Bond into the mindless XXX mold and throw 40 years of cinematic history down the toilet in favor of bright flashes and loud bangs .', 'The film flat lines when it should peak and is more missed opportunity and trifle than dark , decadent truffle .', \"It 's played in the most straight-faced fashion , with little humor to lighten things up .\", 'The heavy-handed film is almost laughable as a consequence .', 'At least one scene is so disgusting that viewers may be hard pressed to retain their lunch .', 'A disappointment for those who love alternate versions of the Bard , particularly ones that involve deep fryers and hamburgers .', 'The film tries too hard to be funny and tries too hard to be hip .', \"The end result is a film that 's neither .\", 'Every nanosecond of the The New Guy reminds you that you could be doing something else far more pleasurable .', 'Something like scrubbing the toilet .', 'Or emptying rat traps .', \"Or doing last year 's taxes with your ex-wife .\", \"\\\\/ But Daphne , you 're too Buff \\\\/ Fred thinks he 's tough \\\\/ And Velma - wow , you 've lost weight !\", 'Is the time really ripe for a warmed-over James Bond adventure , with a village idiot as the 007 clone ?', \"There 's enough melodrama in this Magnolia Primavera to make PTA proud yet director Muccino 's characters are less worthy of Puccini than they are of daytime television .\", 'However it may please those who love movies that blare with pop songs , young science fiction fans will stomp away in disgust .', \"The humor is n't as sharp , the effects not as innovative , nor the story as imaginative as in the original .\", 'But it could have been worse .', 'Some of their jokes work , but most fail miserably and in the end , Pumpkin is far more offensive than it is funny .', \"Even horror fans will most likely not find what they 're seeking with Trouble Every Day ; the movie lacks both thrills and humor .\", 'comes off like a rejected ABC Afterschool Special , freshened up by the dunce of a Screenwriting 101 class .', \"... Designed to provide a mix of smiles and tears , `` Crossroads '' instead provokes a handful of unintentional howlers and numerous yawns .\", 'it seems to me the film is about the art of ripping people off without ever letting them consciously know you have done so', \"It 's just disappointingly superficial -- a movie that has all the elements necessary to be a fascinating , involving character study , but never does more than scratch the surface .\", 'The title not only describes its main characters , but the lazy people behind the camera as well .', 'Schaeffer has to find some hook on which to hang his persistently useless movies , and it might as well be the resuscitation of the middle-aged character .']\n"
          ]
        }
      ],
      "source": [
        "accuracy, errors = main()\n",
        "print(\"Accuracy:\", accuracy)\n",
        "print(\"Errors:\", errors)"
      ]
    },
    {
      "cell_type": "markdown",
      "source": [
        "# Part 2 Intructions and Requirements\n",
        "In the second part, you are going to use logistics regression(ML-based) sentiment classifier. You still use train.tsv, valid.tsv and test.tsv files to train, validate and test your classifier.\n",
        "\n",
        "1.   Preprocess all text and sentences in train.tsv following the common text processing pipeline of your choice(e.g: text normalization, puctuation and stop words removal, lowercase, lemmatization and tokenization etc.) Build a dictionary of vocabularies using the words appear in training set. For words not appeared in the dictionary, use a special token '' to replace. Apply the same processing pipeline to validation and test set.\n",
        "\n",
        "2.   Represent each sentence using bag-of-words representation. Write a dataset and dataloader(batched data) to iterate through the whole dataset.\n",
        "\n",
        "3.   Train a linear classifier using Deep Learning Frameworks of your choice. For example, in PyTorch, you need to define the network(nn.Linear), loss function(nn.CrossEntropy). And train the network using back propagation(define optimizer=torch.optim.Adam.., opt.zero_grad(), net.backward(), opt.step()...)). Perform cross-validation every epoches, and select the best model to save. For Pytorch, you can check tutorials(https://pytorch.org/tutorials/beginner/basics/intro.html).\n",
        "4.   Evaluation: Define the metrics, show your classification accuracy, precision and recall on validation set and test set."
      ],
      "metadata": {
        "id": "LHHhrRH_A4UT"
      }
    },
    {
      "cell_type": "code",
      "source": [
        "import torch\n",
        "from torch.utils.data import Dataset, DataLoader\n",
        "import pandas as pd\n",
        "import string\n",
        "import nltk\n",
        "from nltk.corpus import stopwords\n",
        "from nltk.stem import WordNetLemmatizer\n",
        "from nltk.tokenize import word_tokenize\n",
        "\n",
        "# Download required NLTK datasets\n",
        "nltk.download('punkt')\n",
        "nltk.download('stopwords')\n",
        "nltk.download('wordnet')\n",
        "\n",
        "# Load the train.tsv dataset\n",
        "train_df = pd.read_csv(\"/content/drive/MyDrive/NLP Projects/train.tsv\", sep=\"\\t\", header=None, names=[\"text\", \"label\"], quoting=3)\n",
        "\n",
        "# Define a function for preprocessing text\n",
        "# Define a function for preprocessing text\n",
        "def preprocess_text(text):\n",
        "    # Convert text to lowercase\n",
        "    text = text.lower()\n",
        "    # Remove punctuation from text\n",
        "    text = text.translate(str.maketrans('', '', string.punctuation))\n",
        "    # Tokenize text\n",
        "    tokens = word_tokenize(text)\n",
        "    # Remove stop words and empty strings from tokens\n",
        "    stop_words = set(stopwords.words('english'))\n",
        "    tokens = [word for word in tokens if word not in stop_words and word]\n",
        "    # Lemmatize tokens\n",
        "    lemmatizer = WordNetLemmatizer()\n",
        "    tokens = [lemmatizer.lemmatize(word) for word in tokens]\n",
        "    # Join tokens into a string\n",
        "    text = \" \".join(tokens)\n",
        "    return text\n",
        "\n",
        "\n",
        "# Apply preprocessing to the \"text\" column of the train dataset\n",
        "train_df[\"text\"] = train_df[\"text\"].apply(preprocess_text)\n",
        "\n",
        "# Load the validation.tsv dataset\n",
        "valid_df = pd.read_csv(\"/content/drive/MyDrive/NLP Projects/valid.tsv\", sep=\"\\t\", header=None, names=[\"text\", \"label\"], quoting=3)\n",
        "\n",
        "# Apply preprocessing to the \"text\" column of the validation dataset\n",
        "valid_df[\"text\"] = valid_df[\"text\"].apply(preprocess_text)\n",
        "\n",
        "# Build a vocabulary from the words in the training dataset\n",
        "vocabulary = set()\n",
        "for text in train_df[\"text\"]:\n",
        "    words = text.split()\n",
        "    for word in words:\n",
        "        if word:\n",
        "            vocabulary.add(word)\n",
        "\n",
        "# Create a dictionary of the vocabulary\n",
        "vocab_dict = {}\n",
        "for i, word in enumerate(sorted(vocabulary)):\n",
        "    vocab_dict[word] = i\n",
        "vocab_dict[\"\"] = len(vocab_dict)  # add an empty string key\n",
        "\n",
        "class SentimentDataset(Dataset):\n",
        "    def __init__(self, df, vocab_dict):\n",
        "        self.df = df\n",
        "        self.vocab_dict = vocab_dict\n",
        "        self.label_map = {'positive': 1, 'negative': 0}\n",
        "    \n",
        "    def __len__(self):\n",
        "        return len(self.df)\n",
        "    \n",
        "    def __getitem__(self, idx):\n",
        "        text = self.df.iloc[idx][\"text\"]\n",
        "        label = self.df.iloc[idx][\"label\"]\n",
        "        label = self.label_map[label]\n",
        "        words = text.split()\n",
        "        # Convert words to bag-of-words representation\n",
        "        bow = torch.zeros(len(self.vocab_dict))\n",
        "        for word in words:\n",
        "            if word in self.vocab_dict:\n",
        "                bow[self.vocab_dict[word]] += 1\n",
        "            else:\n",
        "                bow[self.vocab_dict[\"\"]] += 1\n",
        "        return bow, label\n",
        "\n",
        "\n",
        "\n",
        "# Create a dataloader for the training dataset\n",
        "train_dataset = SentimentDataset(train_df, vocab_dict)\n",
        "train_dataloader = DataLoader(train_dataset, batch_size=32, shuffle=True)\n",
        "\n",
        "# Create a dataloader for the validation dataset\n",
        "valid_dataset = SentimentDataset(valid_df, vocab_dict)\n",
        "valid_dataloader = DataLoader(valid_dataset, batch_size=32)\n",
        "\n"
      ],
      "metadata": {
        "id": "y7CEhcVZDHQv",
        "colab": {
          "base_uri": "https://localhost:8080/"
        },
        "outputId": "44318a61-fb00-4e2d-841a-890ba21c3b83"
      },
      "execution_count": 23,
      "outputs": [
        {
          "output_type": "stream",
          "name": "stderr",
          "text": [
            "[nltk_data] Downloading package punkt to /root/nltk_data...\n",
            "[nltk_data]   Package punkt is already up-to-date!\n",
            "[nltk_data] Downloading package stopwords to /root/nltk_data...\n",
            "[nltk_data]   Package stopwords is already up-to-date!\n",
            "[nltk_data] Downloading package wordnet to /root/nltk_data...\n",
            "[nltk_data]   Package wordnet is already up-to-date!\n"
          ]
        }
      ]
    },
    {
      "cell_type": "code",
      "source": [
        "import torch.nn as nn\n",
        "import torch.optim as optim\n",
        "\n",
        "# Define the logistic regression model\n",
        "class LogisticRegression(nn.Module):\n",
        "    def __init__(self, input_size, output_size):\n",
        "        super(LogisticRegression, self).__init__()\n",
        "        self.linear = nn.Linear(input_size, output_size)\n",
        "    \n",
        "    def forward(self, x):\n",
        "        out = self.linear(x)\n",
        "        return out"
      ],
      "metadata": {
        "id": "uoCFu8Hr_A6O"
      },
      "execution_count": 24,
      "outputs": []
    },
    {
      "cell_type": "code",
      "source": [
        "\n",
        "\n",
        "# # Initialize the model\n",
        "# model = LogisticRegression(len(vocab_dict), 2)\n",
        "\n",
        "# # Define the loss function\n",
        "# criterion = nn.CrossEntropyLoss()\n",
        "\n",
        "# # Define the optimizer\n",
        "# optimizer = optim.Adam(model.parameters(), lr=0.01)\n",
        "\n",
        "# # Train the model\n",
        "# num_epochs = 10\n",
        "# best_valid_loss = float('inf')\n",
        "# for epoch in range(num_epochs):\n",
        "#     train_loss = 0.0\n",
        "#     valid_loss = 0.0\n",
        "#     model.train()\n",
        "#     for i, batch in enumerate(train_dataloader):\n",
        "#         x_batch, y_batch = batch\n",
        "#         optimizer.zero_grad()\n",
        "#         outputs = model(x_batch)\n",
        "#         loss = criterion(outputs, y_batch)\n",
        "#         loss.backward()\n",
        "#         optimizer.step()\n",
        "#         train_loss += loss.item()\n",
        "#     train_loss /= len(train_dataloader)\n",
        "#     model.eval()\n",
        "#     with torch.no_grad():\n",
        "#         for i, batch in enumerate(valid_dataloader):\n",
        "#             x_batch, y_batch = batch\n",
        "#             outputs = model(x_batch)\n",
        "#             loss = criterion(outputs, y_batch)\n",
        "#             valid_loss += loss.item()\n",
        "#         valid_loss /= len(valid_dataloader)\n",
        "#     if valid_loss < best_valid_loss:\n",
        "#         best_valid_loss = valid_loss\n",
        "#         torch.save(model.state_dict(), \"best_model.pt\")\n",
        "#     print(\"Epoch: {}, Training Loss: {:.4f}, Validation Loss: {:.4f}\".format(epoch+1, train_loss, valid_loss))\n"
      ],
      "metadata": {
        "id": "0K6p9HUSehKf"
      },
      "execution_count": 25,
      "outputs": []
    },
    {
      "cell_type": "code",
      "source": [
        "import torch.nn.functional as F\n",
        "\n",
        "# Define a function to calculate evaluation metrics\n",
        "def calculate_metrics(predictions, labels):\n",
        "    # Calculate accuracy\n",
        "    accuracy = (predictions == labels).float().mean()\n",
        "    # Calculate precision and recall\n",
        "    tp = ((predictions == 1) & (labels == 1)).float().sum()\n",
        "    fp = ((predictions == 1) & (labels == 0)).float().sum()\n",
        "    tn = ((predictions == 0) & (labels == 0)).float().sum()\n",
        "    fn = ((predictions == 0) & (labels == 1)).float().sum()\n",
        "    precision = tp / (tp + fp)\n",
        "    recall = tp / (tp + fn)\n",
        "    return accuracy, precision, recall\n",
        "\n",
        "# Initialize the model\n",
        "model = LogisticRegression(len(vocab_dict), 2)\n",
        "\n",
        "# Define the loss function\n",
        "criterion = nn.CrossEntropyLoss()\n",
        "\n",
        "# Define the optimizer\n",
        "optimizer = optim.Adam(model.parameters(), lr=0.01)\n",
        "\n",
        "import matplotlib.pyplot as plt\n",
        "\n",
        "# Initialize lists to store metrics\n",
        "train_loss_values = []\n",
        "valid_loss_values = []\n",
        "accuracy_values = []\n",
        "precision_values = []\n",
        "recall_values = []\n",
        "\n",
        "# Perform cross-validation every epoch\n",
        "num_epochs = 10\n",
        "best_valid_loss = float('inf')\n",
        "for epoch in range(num_epochs):\n",
        "    train_loss = 0.0\n",
        "    valid_loss = 0.0\n",
        "    model.train()\n",
        "    for i, batch in enumerate(train_dataloader):\n",
        "        x_batch, y_batch = batch\n",
        "        optimizer.zero_grad()\n",
        "        outputs = model(x_batch)\n",
        "        loss = criterion(outputs, y_batch)\n",
        "        loss.backward()\n",
        "        optimizer.step()\n",
        "        train_loss += loss.item()\n",
        "    train_loss /= len(train_dataloader)\n",
        "    model.eval()\n",
        "    predictions = []\n",
        "    labels = []\n",
        "    with torch.no_grad():\n",
        "        for i, batch in enumerate(valid_dataloader):\n",
        "            x_batch, y_batch = batch\n",
        "            outputs = model(x_batch)\n",
        "            loss = criterion(outputs, y_batch)\n",
        "            valid_loss += loss.item()\n",
        "            # Calculate evaluation metrics\n",
        "            predicted_labels = F.softmax(outputs, dim=1).argmax(dim=1)\n",
        "            predictions.extend(predicted_labels.cpu().numpy())\n",
        "            labels.extend(y_batch.cpu().numpy())\n",
        "        valid_loss /= len(valid_dataloader)\n",
        "        accuracy, precision, recall = calculate_metrics(torch.tensor(predictions), torch.tensor(labels))\n",
        "        # Log metrics\n",
        "        train_loss_values.append(train_loss)\n",
        "        valid_loss_values.append(valid_loss)\n",
        "        accuracy_values.append(accuracy.item())\n",
        "        precision_values.append(precision.item())\n",
        "        recall_values.append(recall.item())\n",
        "    if valid_loss < best_valid_loss:\n",
        "        best_valid_loss = valid_loss\n",
        "        torch.save(model.state_dict(), \"best_model.pt\")\n",
        "    print(\"Epoch: {}, Training Loss: {:.4f}, Validation Loss: {:.4f}, Validation Accuracy: {:.4f}, Validation Precision: {:.4f}, Validation Recall: {:.4f}\".format(epoch+1, train_loss, valid_loss, accuracy, precision, recall))\n",
        "\n",
        "# Plot metrics\n",
        "plt.plot(train_loss_values, label='Training Loss')\n",
        "plt.plot(valid_loss_values, label='Validation Loss')\n",
        "plt.plot(accuracy_values, label='Accuracy')\n",
        "plt.plot(precision_values, label='Precision')\n",
        "plt.plot(recall_values, label='Recall')\n",
        "plt.legend()\n",
        "plt.show()\n"
      ],
      "metadata": {
        "id": "vKNq2rqgehM8",
        "colab": {
          "base_uri": "https://localhost:8080/",
          "height": 464
        },
        "outputId": "8d4ecefc-962e-4e82-df31-c98bb76989f4"
      },
      "execution_count": 26,
      "outputs": [
        {
          "output_type": "stream",
          "name": "stdout",
          "text": [
            "Epoch: 1, Training Loss: 0.5474, Validation Loss: 0.4819, Validation Accuracy: 0.7844, Validation Precision: 0.7949, Validation Recall: 0.7770\n",
            "Epoch: 2, Training Loss: 0.2906, Validation Loss: 0.4749, Validation Accuracy: 0.7821, Validation Precision: 0.7873, Validation Recall: 0.7838\n",
            "Epoch: 3, Training Loss: 0.2010, Validation Loss: 0.4863, Validation Accuracy: 0.7821, Validation Precision: 0.7761, Validation Recall: 0.8041\n",
            "Epoch: 4, Training Loss: 0.1529, Validation Loss: 0.4987, Validation Accuracy: 0.7798, Validation Precision: 0.7788, Validation Recall: 0.7928\n",
            "Epoch: 5, Training Loss: 0.1214, Validation Loss: 0.5190, Validation Accuracy: 0.7798, Validation Precision: 0.7775, Validation Recall: 0.7950\n",
            "Epoch: 6, Training Loss: 0.1013, Validation Loss: 0.5393, Validation Accuracy: 0.7787, Validation Precision: 0.7711, Validation Recall: 0.8041\n",
            "Epoch: 7, Training Loss: 0.0847, Validation Loss: 0.5577, Validation Accuracy: 0.7787, Validation Precision: 0.7734, Validation Recall: 0.7995\n",
            "Epoch: 8, Training Loss: 0.0728, Validation Loss: 0.5764, Validation Accuracy: 0.7798, Validation Precision: 0.7763, Validation Recall: 0.7973\n",
            "Epoch: 9, Training Loss: 0.0634, Validation Loss: 0.6029, Validation Accuracy: 0.7729, Validation Precision: 0.7651, Validation Recall: 0.7995\n",
            "Epoch: 10, Training Loss: 0.0559, Validation Loss: 0.6179, Validation Accuracy: 0.7764, Validation Precision: 0.7736, Validation Recall: 0.7928\n"
          ]
        },
        {
          "output_type": "display_data",
          "data": {
            "text/plain": [
              "<Figure size 432x288 with 1 Axes>"
            ],
            "image/png": "[encoded data removed]"
          },
          "metadata": {
            "needs_background": "light"
          }
        }
      ]
    },
    {
      "cell_type": "code",
      "source": [
        "test_df = pd.read_csv(\"/content/drive/MyDrive/NLP Projects/test.tsv\", sep=\"\\t\", header=None, names=[\"text\", \"label\"], quoting=3)\n",
        "\n",
        "# Apply preprocessing to the \"text\" column of the validation dataset\n",
        "test_df[\"text\"] = test_df[\"text\"].apply(preprocess_text)\n",
        "# Create a dataloader for the validation dataset\n",
        "test_dataset = SentimentDataset(test_df, vocab_dict)\n",
        "test_dataloader = DataLoader(test_dataset, batch_size=32)"
      ],
      "metadata": {
        "id": "oHOYlkf77oh-"
      },
      "execution_count": 27,
      "outputs": []
    },
    {
      "cell_type": "code",
      "source": [
        "# Test the model\n",
        "model.eval()\n",
        "test_predictions = []\n",
        "test_labels = []\n",
        "with torch.no_grad():\n",
        "    for i, batch in enumerate(test_dataloader):\n",
        "        x_batch, y_batch = batch\n",
        "        outputs = model(x_batch)\n",
        "        predicted_labels = F.softmax(outputs, dim=1).argmax(dim=1)\n",
        "        test_predictions.extend(predicted_labels.cpu().numpy())\n",
        "        test_labels.extend(y_batch.cpu().numpy())\n",
        "\n",
        "# Calculate evaluation metrics\n",
        "test_accuracy, test_precision, test_recall = calculate_metrics(torch.tensor(test_predictions), torch.tensor(test_labels))\n",
        "print(\"Test Accuracy: {:.4f}, Test Precision: {:.4f}, Test Recall: {:.4f}\".format(test_accuracy, test_precision, test_recall))\n",
        "\n",
        "# Create a confusion matrix\n",
        "cm = np.zeros((2, 2))\n",
        "for i in range(len(test_labels)):\n",
        "    cm[test_labels[i], test_predictions[i]] += 1\n",
        "\n",
        "\n",
        "\n",
        "\n",
        "import seaborn as sns\n",
        "from sklearn.metrics import precision_recall_curve, roc_curve\n",
        "# Visualize the confusion matrix\n",
        "sns.set()\n",
        "sns.heatmap(cm, annot=True, fmt='g', cmap='Blues')\n",
        "plt.xlabel('Predicted Labels')\n",
        "plt.ylabel('True Labels')\n",
        "plt.title('Confusion Matrix')\n",
        "plt.show()\n",
        "\n",
        "# Plot the precision-recall curve\n",
        "precision, recall, _ = precision_recall_curve(test_labels, test_predictions)\n",
        "plt.plot(recall, precision)\n",
        "plt.xlabel('Recall')\n",
        "plt.ylabel('Precision')\n",
        "plt.title('Precision-Recall Curve')\n",
        "plt.show()\n",
        "\n",
        "# Plot the ROC curve\n",
        "fpr, tpr, _ = roc_curve(test_labels, test_predictions)\n",
        "plt.plot(fpr, tpr)\n",
        "plt.xlabel('False Positive Rate')\n",
        "plt.ylabel('True Positive Rate')\n",
        "plt.title('ROC Curve')\n",
        "plt.show()"
      ],
      "metadata": {
        "colab": {
          "base_uri": "https://localhost:8080/",
          "height": 887
        },
        "id": "T9NNo4uJ7fiQ",
        "outputId": "8b17c2c6-e029-4c65-9cdb-02efa22131e6"
      },
      "execution_count": 28,
      "outputs": [
        {
          "output_type": "stream",
          "name": "stdout",
          "text": [
            "Test Accuracy: 0.7941, Test Precision: 0.7828, Test Recall: 0.8130\n"
          ]
        },
        {
          "output_type": "display_data",
          "data": {
            "text/plain": [
              "<Figure size 432x288 with 2 Axes>"
            ],
            "image/png": "[encoded data removed]"
          },
          "metadata": {}
        },
        {
          "output_type": "display_data",
          "data": {
            "text/plain": [
              "<Figure size 432x288 with 1 Axes>"
            ],
            "image/png": "[encoded data removed]"
          },
          "metadata": {}
        },
        {
          "output_type": "display_data",
          "data": {
            "text/plain": [
              "<Figure size 432x288 with 1 Axes>"
            ],
            "image/png": "[encoded data removed]"
          },
          "metadata": {}
        }
      ]
    },
    {
      "cell_type": "markdown",
      "source": [
        "# Part 3 Intructions and Requirements\n",
        "\n",
        "In this part, instead of representing your sentence using bag of words representation. We are going to use pretrained word vectors(Word2Vec, GLoVe etc). Load these pretrained embedding vectors, for example, you can find GloVe here at https://nlp.stanford.edu/projects/glove/ and download them. Get vectors for all words in your dictionary(defined in Part 2). Represent each sentence with sum of the word vectors. And apply a linear layer on top of the sentence representation and perform logitstic regression. The other part should be the same as part 2."
      ],
      "metadata": {
        "id": "sYVi8j2DF-ty"
      }
    },
    {
      "cell_type": "code",
      "source": [
        "!wget https://nlp.stanford.edu/data/glove.6B.zip\n",
        "!unzip glove.6B.zip -d glove"
      ],
      "metadata": {
        "colab": {
          "base_uri": "https://localhost:8080/"
        },
        "id": "aIL5iQIb-24r",
        "outputId": "9c62c282-a0ff-4998-bb06-ad3b5666de3d"
      },
      "execution_count": 29,
      "outputs": [
        {
          "output_type": "stream",
          "name": "stdout",
          "text": [
            "--2023-03-03 08:15:18--  https://nlp.stanford.edu/data/glove.6B.zip\n",
            "Resolving nlp.stanford.edu (nlp.stanford.edu)... 171.64.67.140\n",
            "Connecting to nlp.stanford.edu (nlp.stanford.edu)|171.64.67.140|:443... connected.\n",
            "HTTP request sent, awaiting response... 301 Moved Permanently\n",
            "Location: https://downloads.cs.stanford.edu/nlp/data/glove.6B.zip [following]\n",
            "--2023-03-03 08:15:18--  https://downloads.cs.stanford.edu/nlp/data/glove.6B.zip\n",
            "Resolving downloads.cs.stanford.edu (downloads.cs.stanford.edu)... 171.64.64.22\n",
            "Connecting to downloads.cs.stanford.edu (downloads.cs.stanford.edu)|171.64.64.22|:443... connected.\n",
            "HTTP request sent, awaiting response... 200 OK\n",
            "Length: 862182613 (822M) [application/zip]\n",
            "Saving to: ‘glove.6B.zip’\n",
            "\n",
            "glove.6B.zip        100%[===================>] 822.24M  5.01MB/s    in 2m 42s  \n",
            "\n",
            "2023-03-03 08:18:01 (5.09 MB/s) - ‘glove.6B.zip’ saved [862182613/862182613]\n",
            "\n",
            "Archive:  glove.6B.zip\n",
            "  inflating: glove/glove.6B.50d.txt  \n",
            "  inflating: glove/glove.6B.100d.txt  \n",
            "  inflating: glove/glove.6B.200d.txt  \n",
            "  inflating: glove/glove.6B.300d.txt  \n"
          ]
        }
      ]
    },
    {
      "cell_type": "code",
      "source": [
        "import torch\n",
        "from torch.utils.data import Dataset, DataLoader\n",
        "import pandas as pd\n",
        "import string\n",
        "import nltk\n",
        "from nltk.corpus import stopwords\n",
        "from nltk.stem import WordNetLemmatizer\n",
        "from nltk.tokenize import word_tokenize\n",
        "\n",
        "# Download required NLTK datasets\n",
        "nltk.download('punkt')\n",
        "nltk.download('stopwords')\n",
        "nltk.download('wordnet')\n",
        "\n",
        "# Load the train.tsv dataset\n",
        "train_df = pd.read_csv(\"/content/drive/MyDrive/NLP Projects/train.tsv\", sep=\"\\t\", header=None, names=[\"text\", \"label\"], quoting=3)\n",
        "\n",
        "# Define a function for preprocessing text\n",
        "# Define a function for preprocessing text\n",
        "def preprocess_text(text):\n",
        "    # Convert text to lowercase\n",
        "    text = text.lower()\n",
        "    # Remove punctuation from text\n",
        "    text = text.translate(str.maketrans('', '', string.punctuation))\n",
        "    # Tokenize text\n",
        "    tokens = word_tokenize(text)\n",
        "    # Remove stop words and empty strings from tokens\n",
        "    stop_words = set(stopwords.words('english'))\n",
        "    tokens = [word for word in tokens if word not in stop_words and word]\n",
        "    # Lemmatize tokens\n",
        "    lemmatizer = WordNetLemmatizer()\n",
        "    tokens = [lemmatizer.lemmatize(word) for word in tokens]\n",
        "    # Join tokens into a string\n",
        "    text = \" \".join(tokens)\n",
        "    return text\n",
        "\n",
        "\n",
        "# Apply preprocessing to the \"text\" column of the train dataset\n",
        "train_df[\"text\"] = train_df[\"text\"].apply(preprocess_text)\n",
        "\n",
        "# Load the validation.tsv dataset\n",
        "valid_df = pd.read_csv(\"/content/drive/MyDrive/NLP Projects/valid.tsv\", sep=\"\\t\", header=None, names=[\"text\", \"label\"], quoting=3)\n",
        "\n",
        "# Apply preprocessing to the \"text\" column of the validation dataset\n",
        "valid_df[\"text\"] = valid_df[\"text\"].apply(preprocess_text)\n",
        "\n",
        "# Build a vocabulary from the words in the training dataset\n",
        "vocabulary = set()\n",
        "for text in train_df[\"text\"]:\n",
        "    words = text.split()\n",
        "    for word in words:\n",
        "        if word:\n",
        "            vocabulary.add(word)\n",
        "\n",
        "# Create a dictionary of the vocabulary\n",
        "vocab_dict = {}\n",
        "for i, word in enumerate(sorted(vocabulary)):\n",
        "    vocab_dict[word] = i\n",
        "vocab_dict[\"\"] = len(vocab_dict)  # add an empty string key\n",
        "\n",
        "\n",
        "\n",
        "glove_embeddings = {}\n",
        "with open(\"/content/drive/MyDrive/NLP Projects/glove.6B.100d.txt\", \"r\") as file:\n",
        "    for line in file:\n",
        "        values = line.split()\n",
        "        word = values[0]\n",
        "        embedding = np.array([float(val) for val in values[1:]])\n",
        "        glove_embeddings[word] = embedding\n",
        "\n",
        "# Create a matrix of GloVe embeddings for the words in the vocabulary\n",
        "vocab_embeddings = np.zeros((len(vocab_dict), 100))\n",
        "for word, index in vocab_dict.items():\n",
        "    if word in glove_embeddings:\n",
        "        vocab_embeddings[index] = glove_embeddings[word]\n",
        "    else:\n",
        "        vocab_embeddings[index] = np.zeros(100)  # use an array of zeros for unknown words\n",
        "\n",
        "class SentimentDataset(Dataset):\n",
        "    def __init__(self, df, vocab_embeddings):\n",
        "        self.df = df\n",
        "        self.vocab_embeddings = vocab_embeddings\n",
        "        self.label_map = {'positive': 1, 'negative': 0}\n",
        "    \n",
        "    def __len__(self):\n",
        "        return len(self.df)\n",
        "    \n",
        "    def __getitem__(self, idx):\n",
        "        text = self.df.iloc[idx][\"text\"]\n",
        "        label = self.df.iloc[idx][\"label\"]\n",
        "        label = self.label_map[label]\n",
        "        words = text.split()\n",
        "        # Convert words to sentence representation using sum of word vectors\n",
        "        sentence_representation = torch.zeros(100)\n",
        "        for word in words:\n",
        "            if word in vocab_dict:\n",
        "                index = vocab_dict[word]\n",
        "                sentence_representation += torch.from_numpy(vocab_embeddings[index]).float()\n",
        "            else:\n",
        "                sentence_representation += torch.from_numpy(vocab_embeddings[vocab_dict[\"\"]]).float()\n",
        "        return sentence_representation, label\n",
        "\n",
        "# Create a dataloader for the training dataset\n",
        "train_dataset = SentimentDataset(train_df, vocab_embeddings)\n",
        "train_dataloader = DataLoader(train_dataset, batch_size=32, shuffle=True)\n",
        "\n",
        "# Create a dataloader for the validation dataset\n",
        "valid_dataset = SentimentDataset(valid_df, vocab_embeddings)\n",
        "valid_dataloader = DataLoader(valid_dataset, batch_size=32)"
      ],
      "metadata": {
        "colab": {
          "base_uri": "https://localhost:8080/"
        },
        "id": "3hv50j-OOswB",
        "outputId": "b24785d6-d3e9-44be-86a6-82756e5576c2"
      },
      "execution_count": 30,
      "outputs": [
        {
          "output_type": "stream",
          "name": "stderr",
          "text": [
            "[nltk_data] Downloading package punkt to /root/nltk_data...\n",
            "[nltk_data]   Package punkt is already up-to-date!\n",
            "[nltk_data] Downloading package stopwords to /root/nltk_data...\n",
            "[nltk_data]   Package stopwords is already up-to-date!\n",
            "[nltk_data] Downloading package wordnet to /root/nltk_data...\n",
            "[nltk_data]   Package wordnet is already up-to-date!\n"
          ]
        }
      ]
    },
    {
      "cell_type": "code",
      "source": [
        "import torch.nn as nn\n",
        "\n",
        "class LogisticRegression(nn.Module):\n",
        "    def __init__(self, input_size, output_size):\n",
        "        super(LogisticRegression, self).__init__()\n",
        "        self.linear = nn.Linear(input_size, output_size)\n",
        "    \n",
        "    def forward(self, x):\n",
        "        out = self.linear(x)\n",
        "        return out\n"
      ],
      "metadata": {
        "id": "G27csp8pOs1R"
      },
      "execution_count": 31,
      "outputs": []
    },
    {
      "cell_type": "code",
      "source": [
        "import torch.nn.functional as F\n",
        "import torch.optim as optim\n",
        "\n",
        "# Define a function to calculate evaluation metrics\n",
        "def calculate_metrics(predictions, labels):\n",
        "    # Calculate accuracy\n",
        "    accuracy = (predictions == labels).float().mean()\n",
        "    # Calculate precision and recall\n",
        "    tp = ((predictions == 1) & (labels == 1)).float().sum()\n",
        "    fp = ((predictions == 1) & (labels == 0)).float().sum()\n",
        "    tn = ((predictions == 0) & (labels == 0)).float().sum()\n",
        "    fn = ((predictions == 0) & (labels == 1)).float().sum()\n",
        "    precision = tp / (tp + fp)\n",
        "    recall = tp / (tp + fn)\n",
        "    return accuracy, precision, recall\n",
        "\n",
        "# Initialize the model\n",
        "model = LogisticRegression(100, 2)\n",
        "\n",
        "# Define the loss function\n",
        "criterion = nn.CrossEntropyLoss()\n",
        "\n",
        "# Define the optimizer\n",
        "optimizer = optim.Adam(model.parameters(), lr=0.01)\n",
        "\n",
        "import matplotlib.pyplot as plt\n",
        "\n",
        "# Initialize lists to store metrics\n",
        "train_loss_values = []\n",
        "valid_loss_values = []\n",
        "accuracy_values = []\n",
        "precision_values = []\n",
        "recall_values = []\n",
        "\n",
        "# Perform cross-validation every epoch\n",
        "num_epochs = 10\n",
        "best_valid_loss = float('inf')\n",
        "for epoch in range(num_epochs):\n",
        "    train_loss = 0.0\n",
        "    valid_loss = 0.0\n",
        "    model.train()\n",
        "    for i, batch in enumerate(train_dataloader):\n",
        "        x_batch, y_batch = batch\n",
        "        optimizer.zero_grad()\n",
        "        outputs = model(x_batch)\n",
        "        loss = criterion(outputs, y_batch)\n",
        "        loss.backward()\n",
        "        optimizer.step()\n",
        "        train_loss += loss.item()\n",
        "    train_loss /= len(train_dataloader)\n",
        "    model.eval()\n",
        "    predictions = []\n",
        "    labels = []\n",
        "    with torch.no_grad():\n",
        "        for i, batch in enumerate(valid_dataloader):\n",
        "            x_batch, y_batch = batch\n",
        "            outputs = model(x_batch)\n",
        "            loss = criterion(outputs, y_batch)\n",
        "            valid_loss += loss.item()\n",
        "            # Calculate evaluation metrics\n",
        "            predicted_labels = F.softmax(outputs, dim=1).argmax(dim=1)\n",
        "            predictions.extend(predicted_labels.cpu().numpy())\n",
        "            labels.extend(y_batch.cpu().numpy())\n",
        "        valid_loss /= len(valid_dataloader)\n",
        "        accuracy, precision, recall = calculate_metrics(torch.tensor(predictions), torch.tensor(labels))\n",
        "        # Log metrics\n",
        "        train_loss_values.append(train_loss)\n",
        "        valid_loss_values.append(valid_loss)\n",
        "        accuracy_values.append(accuracy.item())\n",
        "        precision_values.append(precision.item())\n",
        "        recall_values.append(recall.item())\n",
        "    if valid_loss < best_valid_loss:\n",
        "        best_valid_loss = valid_loss\n",
        "        torch.save(model.state_dict(), \"best_model.pt\")\n",
        "    print(\"Epoch: {}, Training Loss: {:.4f}, Validation Loss: {:.4f}, Validation Accuracy: {:.4f}, Validation Precision: {:.4f}, Validation Recall: {:.4f}\".format(epoch+1, train_loss, valid_loss, accuracy, precision, recall))\n",
        "\n",
        "# Plot metrics\n",
        "plt.plot(train_loss_values, label='Training Loss')\n",
        "plt.plot(valid_loss_values, label='Validation Loss')\n",
        "plt.plot(accuracy_values, label='Accuracy')\n",
        "plt.plot(precision_values, label='Precision')\n",
        "plt.plot(recall_values, label='Recall')\n",
        "plt.legend()\n",
        "plt.show()"
      ],
      "metadata": {
        "colab": {
          "base_uri": "https://localhost:8080/",
          "height": 470
        },
        "id": "mEVpniOBOs3q",
        "outputId": "e5729fb3-bee7-4be5-b0fd-934f46bf15ae"
      },
      "execution_count": 32,
      "outputs": [
        {
          "output_type": "stream",
          "name": "stdout",
          "text": [
            "Epoch: 1, Training Loss: 0.6145, Validation Loss: 0.6529, Validation Accuracy: 0.7053, Validation Precision: 0.6530, Validation Recall: 0.8986\n",
            "Epoch: 2, Training Loss: 0.5849, Validation Loss: 0.6103, Validation Accuracy: 0.7064, Validation Precision: 0.6655, Validation Recall: 0.8514\n",
            "Epoch: 3, Training Loss: 0.6207, Validation Loss: 0.5863, Validation Accuracy: 0.7328, Validation Precision: 0.6972, Validation Recall: 0.8401\n",
            "Epoch: 4, Training Loss: 0.5852, Validation Loss: 0.5368, Validation Accuracy: 0.7603, Validation Precision: 0.7726, Validation Recall: 0.7500\n",
            "Epoch: 5, Training Loss: 0.5927, Validation Loss: 0.5504, Validation Accuracy: 0.7477, Validation Precision: 0.7249, Validation Recall: 0.8131\n",
            "Epoch: 6, Training Loss: 0.5832, Validation Loss: 0.5877, Validation Accuracy: 0.7167, Validation Precision: 0.6762, Validation Recall: 0.8514\n",
            "Epoch: 7, Training Loss: 0.5847, Validation Loss: 0.6324, Validation Accuracy: 0.7099, Validation Precision: 0.6721, Validation Recall: 0.8401\n",
            "Epoch: 8, Training Loss: 0.5745, Validation Loss: 0.6116, Validation Accuracy: 0.7064, Validation Precision: 0.8219, Validation Recall: 0.5405\n",
            "Epoch: 9, Training Loss: 0.5951, Validation Loss: 0.8596, Validation Accuracy: 0.6560, Validation Precision: 0.6053, Validation Recall: 0.9324\n",
            "Epoch: 10, Training Loss: 0.6009, Validation Loss: 0.5804, Validation Accuracy: 0.7294, Validation Precision: 0.7047, Validation Recall: 0.8063\n"
          ]
        },
        {
          "output_type": "display_data",
          "data": {
            "text/plain": [
              "<Figure size 432x288 with 1 Axes>"
            ],
            "image/png": "[encoded data removed]"
          },
          "metadata": {}
        }
      ]
    },
    {
      "cell_type": "code",
      "source": [
        "test_df = pd.read_csv(\"/content/drive/MyDrive/NLP Projects/test.tsv\", sep=\"\\t\", header=None, names=[\"text\", \"label\"], quoting=3)\n",
        "\n",
        "# Apply preprocessing to the \"text\" column of the validation dataset\n",
        "test_df[\"text\"] = test_df[\"text\"].apply(preprocess_text)\n",
        "# Create a dataloader for the validation dataset\n",
        "test_dataset = SentimentDataset(test_df, vocab_dict)\n",
        "test_dataloader = DataLoader(test_dataset, batch_size=32)"
      ],
      "metadata": {
        "id": "FIHJ2Fg5QrqB"
      },
      "execution_count": 33,
      "outputs": []
    },
    {
      "cell_type": "code",
      "source": [
        "# Test the model\n",
        "model.eval()\n",
        "test_predictions = []\n",
        "test_labels = []\n",
        "with torch.no_grad():\n",
        "    for i, batch in enumerate(test_dataloader):\n",
        "        x_batch, y_batch = batch\n",
        "        outputs = model(x_batch)\n",
        "        predicted_labels = F.softmax(outputs, dim=1).argmax(dim=1)\n",
        "        test_predictions.extend(predicted_labels.cpu().numpy())\n",
        "        test_labels.extend(y_batch.cpu().numpy())\n",
        "\n",
        "# Calculate evaluation metrics\n",
        "test_accuracy, test_precision, test_recall = calculate_metrics(torch.tensor(test_predictions), torch.tensor(test_labels))\n",
        "print(\"Test Accuracy: {:.4f}, Test Precision: {:.4f}, Test Recall: {:.4f}\".format(test_accuracy, test_precision, test_recall))\n",
        "\n",
        "# Create a confusion matrix\n",
        "cm = np.zeros((2, 2))\n",
        "for i in range(len(test_labels)):\n",
        "    cm[test_labels[i], test_predictions[i]] += 1\n",
        "\n",
        "\n",
        "\n",
        "\n",
        "import seaborn as sns\n",
        "from sklearn.metrics import precision_recall_curve, roc_curve\n",
        "# Visualize the confusion matrix\n",
        "sns.set()\n",
        "sns.heatmap(cm, annot=True, fmt='g', cmap='Blues')\n",
        "plt.xlabel('Predicted Labels')\n",
        "plt.ylabel('True Labels')\n",
        "plt.title('Confusion Matrix')\n",
        "plt.show()\n",
        "\n",
        "# Plot the precision-recall curve\n",
        "precision, recall, _ = precision_recall_curve(test_labels, test_predictions)\n",
        "plt.plot(recall, precision)\n",
        "plt.xlabel('Recall')\n",
        "plt.ylabel('Precision')\n",
        "plt.title('Precision-Recall Curve')\n",
        "plt.show()\n",
        "\n",
        "# Plot the ROC curve\n",
        "fpr, tpr, _ = roc_curve(test_labels, test_predictions)\n",
        "plt.plot(fpr, tpr)\n",
        "plt.xlabel('False Positive Rate')\n",
        "plt.ylabel('True Positive Rate')\n",
        "plt.title('ROC Curve')\n",
        "plt.show()"
      ],
      "metadata": {
        "colab": {
          "base_uri": "https://localhost:8080/",
          "height": 887
        },
        "id": "PM-Ycb7ZQ0AK",
        "outputId": "1019e8a6-e1fe-49cc-966c-76d065836f9a"
      },
      "execution_count": 34,
      "outputs": [
        {
          "output_type": "stream",
          "name": "stdout",
          "text": [
            "Test Accuracy: 0.7342, Test Precision: 0.7077, Test Recall: 0.7965\n"
          ]
        },
        {
          "output_type": "display_data",
          "data": {
            "text/plain": [
              "<Figure size 432x288 with 2 Axes>"
            ],
            "image/png": "[encoded data removed]"
          },
          "metadata": {}
        },
        {
          "output_type": "display_data",
          "data": {
            "text/plain": [
              "<Figure size 432x288 with 1 Axes>"
            ],
            "image/png": "[encoded data removed]"
          },
          "metadata": {}
        },
        {
          "output_type": "display_data",
          "data": {
            "text/plain": [
              "<Figure size 432x288 with 1 Axes>"
            ],
            "image/png": "[encoded data removed]"
          },
          "metadata": {}
        }
      ]
    }
  ]
}